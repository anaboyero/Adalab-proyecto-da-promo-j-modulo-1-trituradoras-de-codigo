{
 "cells": [
  {
   "cell_type": "code",
   "execution_count": null,
   "metadata": {},
   "outputs": [],
   "source": [
    "import random\n",
    "#Saludar al usuario y darle la bienvenida\n",
    "\n",
    "print(\"---¡Bienvenido al juego piedra, papel o tijera!---\")\n",
    "\n",
    "#Preguntarle si quiere piedra, papel o tijera \n",
    "\n",
    "arma = input(\"Elije tu arma para jugar\")\n",
    "\n",
    "print(f\"Has elegido {arma}\")\n",
    "\n",
    "#que el ordenador elija de manera aleatoria su tirada\n",
    "# buscar alternativas con random\n",
    "opciones_armas = [\"piedra\", \"papel\", \"tijeras\"]\n",
    "opcion_aleatoria = random.randint(0,2)\n",
    "arma_maquina = opciones_armas[opcion_aleatoria]\n",
    "print(\"Tu contrincante ha elegido\", arma_maquina)\n",
    "\n",
    "#comparar las dos tiradas\n",
    "# escribir un bucle if donde se analicen todas las opciones posibles\n",
    "#mostrar quién ha ganado.\n",
    "\n",
    "if arma == \"piedra\":\n",
    "    if arma_maquina == \"piedra\":\n",
    "        print(\"¡Has empatado!\")\n",
    "    if arma_maquina == \"papel\":\n",
    "        print(\"¡Has perdido!\")\n",
    "    if arma_maquina == \"tijera\":\n",
    "        print(\"¡Has ganado!\")\n",
    "elif arma == \"papel\":\n",
    "    if arma_maquina == \"piedra\":\n",
    "        print(\"¡Has ganado!\")\n",
    "    if arma_maquina == \"papel\":\n",
    "        print(\"¡Has empatado!\")\n",
    "    if arma_maquina == \"tijera\":\n",
    "        print(\"¡Has perdido!\")\n",
    "else:\n",
    "    if arma_maquina == \"piedra\":\n",
    "        print(\"¡Has perdido!\")\n",
    "    if arma_maquina == \"papel\":\n",
    "        print(\"¡Has ganado!\")\n",
    "    if arma_maquina == \"tijera\":\n",
    "        print(\"¡Has empatado!\")"
   ]
  }
 ],
 "metadata": {
  "kernelspec": {
   "display_name": "base",
   "language": "python",
   "name": "python3"
  },
  "language_info": {
   "codemirror_mode": {
    "name": "ipython",
    "version": 3
   },
   "file_extension": ".py",
   "mimetype": "text/x-python",
   "name": "python",
   "nbconvert_exporter": "python",
   "pygments_lexer": "ipython3",
   "version": "3.12.4"
  }
 },
 "nbformat": 4,
 "nbformat_minor": 2
}
